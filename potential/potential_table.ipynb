{
 "cells": [
  {
   "cell_type": "code",
   "execution_count": 146,
   "metadata": {},
   "outputs": [],
   "source": [
    "import numpy as np\n",
    "import pandas as pd"
   ]
  },
  {
   "cell_type": "code",
   "execution_count": 147,
   "metadata": {},
   "outputs": [],
   "source": [
    "def potential(Z1, Z2, A, rho, B, sigma, C, r):\n",
    "    \n",
    "    return Z1*Z2/r + A*np.exp(-r/rho) + B*np.exp(-r/sigma) - C/(r**6)\n",
    "\n",
    "#dE/dr = -F\n",
    "def force(Z1, Z2, A, rho, B, sigma, C, r):\n",
    "    \n",
    "    return Z1*Z2/(r**2) + A*np.exp(-r/rho)/rho + B*np.exp(-r/sigma)/sigma - 6*C/(r**7)"
   ]
  },
  {
   "cell_type": "markdown",
   "metadata": {},
   "source": [
    "# Bi3+ --- O2-"
   ]
  },
  {
   "cell_type": "code",
   "execution_count": 148,
   "metadata": {},
   "outputs": [],
   "source": [
    "#metal units\n",
    "step = 1.00e-04 # = 0.00001 A\n",
    "\n",
    "Z1 = 3\n",
    "Z2 = -2\n",
    "A = 323.0\n",
    "rho = 0.41631\n",
    "B = 5745.0\n",
    "sigma = 0.27279\n",
    "C = 0.00\n",
    "\n",
    "BiO_table = []\n",
    "r = step\n",
    "\n",
    "#while potential(Z1, Z2, A, rho, B, sigma, C, r) >= 10e-6:\n",
    "for i in range(50000):\n",
    "    BiO_table.append({'r': r,\n",
    "                      'energy' : potential(Z1, Z2, A, rho, B, sigma, C, r),\n",
    "                      'force': force(Z1, Z2, A, rho, B, sigma, C, r)})\n",
    "    r += step\n",
    "    \n",
    "BiO_df = pd.DataFrame(BiO_table)    "
   ]
  },
  {
   "cell_type": "code",
   "execution_count": 149,
   "metadata": {},
   "outputs": [],
   "source": [
    "f= open(\"BiO.table\",\"w+\")\n",
    "f.write(\"#BiO \\n\\n\")\n",
    "f.write(\"BiO \\n\")\n",
    "f.write('N {} \\n\\n'.format(len(BiO_table)))\n",
    "BiO_df.to_csv(r'BiO.table', sep = ' ', index = True)\n",
    "f.close()"
   ]
  },
  {
   "cell_type": "markdown",
   "metadata": {},
   "source": [
    "# O2- --- O2-"
   ]
  },
  {
   "cell_type": "code",
   "execution_count": 150,
   "metadata": {},
   "outputs": [],
   "source": [
    "#metal units\n",
    "step = 1.00e-04 # = 0.00001 A\n",
    "\n",
    "Z1 = -2\n",
    "Z2 = -2\n",
    "A = 1290.0\n",
    "rho = 0.30110\n",
    "B = 47683.4\n",
    "sigma = 0.14438\n",
    "C = 71.30\n",
    "\n",
    "OO_table = []\n",
    "r = step\n",
    "\n",
    "#while potential(Z1, Z2, A, rho, B, sigma, C, r) >= 10e-6:\n",
    "for i in range(50000):\n",
    "    OO_table.append({'r': r,\n",
    "                      'energy' : potential(Z1, Z2, A, rho, B, sigma, C, r),\n",
    "                      'force': force(Z1, Z2, A, rho, B, sigma, C, r)})\n",
    "    r += step\n",
    "    \n",
    "OO_df = pd.DataFrame(OO_table)    "
   ]
  },
  {
   "cell_type": "code",
   "execution_count": 151,
   "metadata": {},
   "outputs": [],
   "source": [
    "f= open(\"OO.table\",\"w+\")\n",
    "f.write(\"#OO \\n\\n\")\n",
    "f.write(\"OO \\n\")\n",
    "f.write('N {} \\n\\n'.format(len(OO_table)))\n",
    "OO_df.to_csv(r'OO.table', sep = ' ', index = True)\n",
    "f.close()"
   ]
  },
  {
   "cell_type": "markdown",
   "metadata": {},
   "source": [
    "# Bi3+ --- Bi3+"
   ]
  },
  {
   "cell_type": "code",
   "execution_count": 152,
   "metadata": {},
   "outputs": [],
   "source": [
    "#metal units\n",
    "step = 1.00e-04 # = 0.0001 A\n",
    "\n",
    "Z1 = 3\n",
    "Z2 = 3\n",
    "A = 15983.1\n",
    "rho = 0.25643\n",
    "B = 3087441.4\n",
    "sigma = 0.10406\n",
    "C = 40.36\n",
    "\n",
    "BiBi_table = []\n",
    "r = step\n",
    "\n",
    "#while potential(Z1, Z2, A, rho, B, sigma, C, r) >= 10e-6:\n",
    "for i in range(50000):\n",
    "    BiBi_table.append({'r': r,\n",
    "                      'energy' : potential(Z1, Z2, A, rho, B, sigma, C, r),\n",
    "                      'force': force(Z1, Z2, A, rho, B, sigma, C, r)})\n",
    "    r += step\n",
    "    \n",
    "BiBi_df = pd.DataFrame(BiBi_table)    "
   ]
  },
  {
   "cell_type": "code",
   "execution_count": 153,
   "metadata": {},
   "outputs": [],
   "source": [
    "f= open(\"BiBi.table\",\"w+\")\n",
    "f.write(\"#BiBi \\n\\n\")\n",
    "f.write(\"BiBi \\n\")\n",
    "f.write('N {} \\n\\n'.format(len(BiBi_table)))\n",
    "BiBi_df.to_csv(r'BiBi.table', sep = ' ', index = True)\n",
    "f.close()"
   ]
  }
 ],
 "metadata": {
  "kernelspec": {
   "display_name": "Python 3",
   "language": "python",
   "name": "python3"
  },
  "language_info": {
   "codemirror_mode": {
    "name": "ipython",
    "version": 3
   },
   "file_extension": ".py",
   "mimetype": "text/x-python",
   "name": "python",
   "nbconvert_exporter": "python",
   "pygments_lexer": "ipython3",
   "version": "3.7.6"
  }
 },
 "nbformat": 4,
 "nbformat_minor": 4
}
