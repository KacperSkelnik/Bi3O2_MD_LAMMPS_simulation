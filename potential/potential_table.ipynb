{
 "cells": [
  {
   "cell_type": "code",
   "execution_count": 26,
   "metadata": {},
   "outputs": [],
   "source": [
    "import numpy as np\n",
    "import pandas as pd"
   ]
  },
  {
   "cell_type": "code",
   "execution_count": 27,
   "metadata": {},
   "outputs": [],
   "source": [
    "def potential(Z1, Z2, A, rho, B, sigma, C, r):\n",
    "    \n",
    "    return Z1*Z2/r + A*np.exp(-r/rho) + B*np.exp(-r/sigma) - C/(r**6)\n",
    "\n",
    "#dE/dr = -F\n",
    "def force(Z1, Z2, A, rho, B, sigma, C, r):\n",
    "    \n",
    "    return Z1*Z2/(r**2) + A*np.exp(-r/rho)/rho + B*np.exp(-r/sigma)/sigma - 6*C/(r**7)"
   ]
  },
  {
   "cell_type": "markdown",
   "metadata": {},
   "source": [
    "# Bi3+ --- O2-"
   ]
  },
  {
   "cell_type": "code",
   "execution_count": 28,
   "metadata": {},
   "outputs": [],
   "source": [
    "#metal units\n",
    "step = 1.00e-04 # = 0.0001 A\n",
    "coul_c = 14.3996 # eV·Å·e^−2\n",
    "\n",
    "Z1 = 3*coul_c\n",
    "Z2 = -2*coul_c\n",
    "A = 323.0\n",
    "rho = 0.41631\n",
    "B = 5745.0\n",
    "sigma = 0.27279\n",
    "C = 0.00\n",
    "\n",
    "BiO_table = []\n",
    "r = step\n",
    "\n",
    "for i in range(50000):\n",
    "    BiO_table.append({'r': r,\n",
    "                      'energy' : potential(Z1, Z2, A, rho, B, sigma, C, r),\n",
    "                      'force': force(Z1, Z2, A, rho, B, sigma, C, r)})\n",
    "    r += step\n",
    "    \n",
    "BiO_df = pd.DataFrame(BiO_table)    "
   ]
  },
  {
   "cell_type": "code",
   "execution_count": 29,
   "metadata": {},
   "outputs": [
    {
     "data": {
      "text/html": [
       "<div>\n",
       "<style scoped>\n",
       "    .dataframe tbody tr th:only-of-type {\n",
       "        vertical-align: middle;\n",
       "    }\n",
       "\n",
       "    .dataframe tbody tr th {\n",
       "        vertical-align: top;\n",
       "    }\n",
       "\n",
       "    .dataframe thead th {\n",
       "        text-align: right;\n",
       "    }\n",
       "</style>\n",
       "<table border=\"1\" class=\"dataframe\">\n",
       "  <thead>\n",
       "    <tr style=\"text-align: right;\">\n",
       "      <th></th>\n",
       "      <th>r</th>\n",
       "      <th>energy</th>\n",
       "      <th>force</th>\n",
       "    </tr>\n",
       "  </thead>\n",
       "  <tbody>\n",
       "    <tr>\n",
       "      <th>49995</th>\n",
       "      <td>4.9996</td>\n",
       "      <td>-248.836054</td>\n",
       "      <td>-49.766644</td>\n",
       "    </tr>\n",
       "    <tr>\n",
       "      <th>49996</th>\n",
       "      <td>4.9997</td>\n",
       "      <td>-248.831077</td>\n",
       "      <td>-49.764655</td>\n",
       "    </tr>\n",
       "    <tr>\n",
       "      <th>49997</th>\n",
       "      <td>4.9998</td>\n",
       "      <td>-248.826101</td>\n",
       "      <td>-49.762665</td>\n",
       "    </tr>\n",
       "    <tr>\n",
       "      <th>49998</th>\n",
       "      <td>4.9999</td>\n",
       "      <td>-248.821125</td>\n",
       "      <td>-49.760676</td>\n",
       "    </tr>\n",
       "    <tr>\n",
       "      <th>49999</th>\n",
       "      <td>5.0000</td>\n",
       "      <td>-248.816149</td>\n",
       "      <td>-49.758686</td>\n",
       "    </tr>\n",
       "  </tbody>\n",
       "</table>\n",
       "</div>"
      ],
      "text/plain": [
       "            r      energy      force\n",
       "49995  4.9996 -248.836054 -49.766644\n",
       "49996  4.9997 -248.831077 -49.764655\n",
       "49997  4.9998 -248.826101 -49.762665\n",
       "49998  4.9999 -248.821125 -49.760676\n",
       "49999  5.0000 -248.816149 -49.758686"
      ]
     },
     "execution_count": 29,
     "metadata": {},
     "output_type": "execute_result"
    }
   ],
   "source": [
    "BiO_df.tail()"
   ]
  },
  {
   "cell_type": "code",
   "execution_count": 30,
   "metadata": {},
   "outputs": [],
   "source": [
    "f= open(\"BiO.table\",\"w+\")\n",
    "f.write(\"#BiO \\n\\n\")\n",
    "f.write(\"BiO \\n\")\n",
    "f.write('N {} \\n\\n'.format(len(BiO_table)))\n",
    "BiO_df.to_csv(r'BiO.table', sep = ' ', index = True)\n",
    "f.close()"
   ]
  },
  {
   "cell_type": "markdown",
   "metadata": {},
   "source": [
    "# O2- --- O2-"
   ]
  },
  {
   "cell_type": "code",
   "execution_count": 31,
   "metadata": {},
   "outputs": [],
   "source": [
    "#metal units\n",
    "step = 1.00e-04 # = 0.0001 A\n",
    "coul_c = 14.3996 # eV·Å·e^−2\n",
    "\n",
    "Z1 = -2*coul_c\n",
    "Z2 = -2*coul_c\n",
    "A = 1290.0\n",
    "rho = 0.30110\n",
    "B = 47683.4\n",
    "sigma = 0.14438\n",
    "C = 71.30\n",
    "\n",
    "OO_table = []\n",
    "r = step\n",
    "\n",
    "for i in range(50000):\n",
    "    OO_table.append({'r': r,\n",
    "                      'energy' : potential(Z1, Z2, A, rho, B, sigma, C, r),\n",
    "                      'force': force(Z1, Z2, A, rho, B, sigma, C, r)})\n",
    "    r += step\n",
    "    \n",
    "OO_df = pd.DataFrame(OO_table)    "
   ]
  },
  {
   "cell_type": "code",
   "execution_count": 32,
   "metadata": {},
   "outputs": [],
   "source": [
    "f= open(\"OO.table\",\"w+\")\n",
    "f.write(\"#OO \\n\\n\")\n",
    "f.write(\"OO \\n\")\n",
    "f.write('N {} \\n\\n'.format(len(OO_table)))\n",
    "OO_df.to_csv(r'OO.table', sep = ' ', index = True)\n",
    "f.close()"
   ]
  },
  {
   "cell_type": "markdown",
   "metadata": {},
   "source": [
    "# Bi3+ --- Bi3+"
   ]
  },
  {
   "cell_type": "code",
   "execution_count": 33,
   "metadata": {},
   "outputs": [],
   "source": [
    "#metal units\n",
    "step = 1.00e-04 # = 0.0001 A\n",
    "coul_c = 14.3996 # eV·Å·e^−2\n",
    "\n",
    "Z1 = 3*coul_c\n",
    "Z2 = 3*coul_c\n",
    "A = 15983.1\n",
    "rho = 0.25643\n",
    "B = 3087441.4\n",
    "sigma = 0.10406\n",
    "C = 40.36\n",
    "\n",
    "BiBi_table = []\n",
    "r = step\n",
    "\n",
    "for i in range(50000):\n",
    "    BiBi_table.append({'r': r,\n",
    "                      'energy' : potential(Z1, Z2, A, rho, B, sigma, C, r),\n",
    "                      'force': force(Z1, Z2, A, rho, B, sigma, C, r)})\n",
    "    r += step\n",
    "    \n",
    "BiBi_df = pd.DataFrame(BiBi_table)    "
   ]
  },
  {
   "cell_type": "code",
   "execution_count": 34,
   "metadata": {},
   "outputs": [],
   "source": [
    "f= open(\"BiBi.table\",\"w+\")\n",
    "f.write(\"#BiBi \\n\\n\")\n",
    "f.write(\"BiBi \\n\")\n",
    "f.write('N {} \\n\\n'.format(len(BiBi_table)))\n",
    "BiBi_df.to_csv(r'BiBi.table', sep = ' ', index = True)\n",
    "f.close()"
   ]
  }
 ],
 "metadata": {
  "kernelspec": {
   "display_name": "Python 3",
   "language": "python",
   "name": "python3"
  },
  "language_info": {
   "codemirror_mode": {
    "name": "ipython",
    "version": 3
   },
   "file_extension": ".py",
   "mimetype": "text/x-python",
   "name": "python",
   "nbconvert_exporter": "python",
   "pygments_lexer": "ipython3",
   "version": "3.7.6"
  }
 },
 "nbformat": 4,
 "nbformat_minor": 4
}
